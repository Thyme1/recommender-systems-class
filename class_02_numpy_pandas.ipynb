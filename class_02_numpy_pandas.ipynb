{
 "cells": [
  {
   "cell_type": "code",
   "execution_count": 109,
   "id": "spread-happiness",
   "metadata": {},
   "outputs": [
    {
     "name": "stdout",
     "output_type": "stream",
     "text": [
      "The autoreload extension is already loaded. To reload it, use:\n",
      "  %reload_ext autoreload\n"
     ]
    }
   ],
   "source": [
    "%matplotlib inline\n",
    "%load_ext autoreload\n",
    "%autoreload 2\n",
    "\n",
    "import numpy as np\n",
    "import pandas as pd\n",
    "import matplotlib.pyplot as plt\n",
    "import seaborn as sns\n",
    "from IPython.display import Markdown, display, HTML\n",
    "\n",
    "# Fix the dying kernel problem (only a problem in some installations - you can remove it, if it works without it)\n",
    "import os\n",
    "os.environ['KMP_DUPLICATE_LIB_OK'] = 'True'"
   ]
  },
  {
   "cell_type": "markdown",
   "id": "approximate-classic",
   "metadata": {},
   "source": [
    "# Numpy tasks\n",
    "\n",
    "For a detailed reference check out: https://numpy.org/doc/stable/reference/arrays.indexing.html."
   ]
  },
  {
   "cell_type": "markdown",
   "id": "regular-niger",
   "metadata": {},
   "source": [
    "**Task 1.** Calculate the sigmoid (logistic) function on every element of the following numpy array [0.3, 1.2, -1.4, 0.2, -0.1, 0.1, 0.8, -0.25] and print the last 5 elements. Use only vector operations."
   ]
  },
  {
   "cell_type": "code",
   "execution_count": 110,
   "id": "agreed-single",
   "metadata": {},
   "outputs": [
    {
     "name": "stdout",
     "output_type": "stream",
     "text": [
      "[0.549834   0.47502081 0.52497919 0.68997448 0.4378235 ]\n"
     ]
    }
   ],
   "source": [
    "a = np.array([0.3, 1.2, -1.4, 0.2, -0.1, 0.1, 0.8, -0.25])\n",
    "a = 1 / (1 + np.exp(-a[:]))\n",
    "print(a[-5:])"
   ]
  },
  {
   "cell_type": "markdown",
   "id": "another-catch",
   "metadata": {},
   "source": [
    "**Task 2.** Calculate the dot product of the following two vectors:<br/>\n",
    "$x = [3, 1, 4, 2, 6, 1, 4, 8]$<br/>\n",
    "$y = [5, 2, 3, 12, 2, 4, 17, 11]$<br/>\n",
    "a) by using element-wise mutliplication and np.sum,<br/>\n",
    "b) by using np.dot,<br/>\n",
    "b) by using np.matmul and transposition (x.T)."
   ]
  },
  {
   "cell_type": "code",
   "execution_count": 111,
   "id": "forbidden-journalism",
   "metadata": {},
   "outputs": [
    {
     "name": "stdout",
     "output_type": "stream",
     "text": [
      "225\n",
      "225\n",
      "225\n"
     ]
    }
   ],
   "source": [
    "x=np.array([3,1,4,2,6,1,4,8]) \n",
    "y=np.array([5,2,3,12,2,4,17,11])\n",
    "\n",
    "# a) by using element-wise mutliplication and np.sum\n",
    "print(np.sum(x * y))\n",
    "\n",
    "# b) by using np.dot\n",
    "print(np.dot(x,y))\n",
    "\n",
    "# c) by using np.matmul and transposition (x.T)\n",
    "print(np.matmul(x.T,y))\n"
   ]
  },
  {
   "cell_type": "markdown",
   "id": "acute-amber",
   "metadata": {},
   "source": [
    "**Task 3.** Calculate value of the logistic model<br/>\n",
    "$$y = \\frac{1}{1 + e^{-x_0 \\theta_0 - \\ldots - x_9 \\theta_9 - \\theta_{10}}}$$\n",
    "for<br/>\n",
    "$x = [1.2, 2.3, 3.4, -0.7, 4.2, 2.7, -0.5, 1.4, -3.3, 0.2]$<br/>\n",
    "$\\theta = [2.7, 0.33, -2.12, -1.73, 2.9, -5.8, -0.9, 12.11, 3.43, -0.5, -1.65]$<br/>\n",
    "and print the result. Use only vector operations."
   ]
  },
  {
   "cell_type": "code",
   "execution_count": 112,
   "id": "falling-holder",
   "metadata": {},
   "outputs": [
    {
     "name": "stdout",
     "output_type": "stream",
     "text": [
      "0.24176998326155683\n"
     ]
    }
   ],
   "source": [
    "x = np.array([1.2,2.3,3.4,-0.7,4.2,2.7,-0.5,1.4,-3.3,0.2])\n",
    "theta = np.array([2.7, 0.33, -2.12, -1.73, 2.9, -5.8, -0.9, 12.11, 3.43, -0.5, -1.65])\n",
    "\n",
    "y = 1/(1 + np.exp(sum(-x[:10]*theta[:10]) - theta[10]))\n",
    "print(y)\n"
   ]
  },
  {
   "cell_type": "markdown",
   "id": "encouraging-clear",
   "metadata": {},
   "source": [
    "**Task 4.** Calculate value of the multivariate linear regression model<br/>\n",
    "$$y = A x + B$$\n",
    "for<br/>\n",
    "$A = \\begin{bmatrix} 1 & 2 & 1 \\\\ 3 & 0 & 1 \\end{bmatrix}$<br/>\n",
    "$B = \\begin{bmatrix} 0.2 \\\\ 0.3 \\end{bmatrix}$<br/>\n",
    "$x = [1, 2, 3]^T$<br/>\n",
    "and print the result. Use only vector and matrix operations."
   ]
  },
  {
   "cell_type": "code",
   "execution_count": 113,
   "id": "casual-emergency",
   "metadata": {},
   "outputs": [
    {
     "name": "stdout",
     "output_type": "stream",
     "text": [
      "[[8.2 6.2]\n",
      " [8.3 6.3]]\n"
     ]
    }
   ],
   "source": [
    "A = np.array([[1,2,1],[3,0,1]])\n",
    "B = np.array([[0.2],[0.3]])\n",
    "x = np.array([1,2,3])\n",
    "\n",
    "y = np.matmul(A, x.T) + B\n",
    "print(y)"
   ]
  },
  {
   "cell_type": "markdown",
   "id": "latter-vector",
   "metadata": {},
   "source": [
    "# Pandas"
   ]
  },
  {
   "cell_type": "markdown",
   "id": "contrary-vacuum",
   "metadata": {},
   "source": [
    "## Load datasets\n",
    "\n",
    "- Steam (https://www.kaggle.com/tamber/steam-video-games)\n",
    "\n",
    "- MovieLens (https://grouplens.org/datasets/movielens/)"
   ]
  },
  {
   "cell_type": "code",
   "execution_count": 114,
   "id": "alert-friday",
   "metadata": {},
   "outputs": [
    {
     "data": {
      "text/html": [
       "<div>\n",
       "<style scoped>\n",
       "    .dataframe tbody tr th:only-of-type {\n",
       "        vertical-align: middle;\n",
       "    }\n",
       "\n",
       "    .dataframe tbody tr th {\n",
       "        vertical-align: top;\n",
       "    }\n",
       "\n",
       "    .dataframe thead th {\n",
       "        text-align: right;\n",
       "    }\n",
       "</style>\n",
       "<table border=\"1\" class=\"dataframe\">\n",
       "  <thead>\n",
       "    <tr style=\"text-align: right;\">\n",
       "      <th></th>\n",
       "      <th>user-id</th>\n",
       "      <th>game-title</th>\n",
       "      <th>behavior-name</th>\n",
       "      <th>value</th>\n",
       "      <th>zero</th>\n",
       "    </tr>\n",
       "  </thead>\n",
       "  <tbody>\n",
       "    <tr>\n",
       "      <th>0</th>\n",
       "      <td>151603712</td>\n",
       "      <td>The Elder Scrolls V Skyrim</td>\n",
       "      <td>purchase</td>\n",
       "      <td>1.0</td>\n",
       "      <td>0</td>\n",
       "    </tr>\n",
       "    <tr>\n",
       "      <th>1</th>\n",
       "      <td>151603712</td>\n",
       "      <td>The Elder Scrolls V Skyrim</td>\n",
       "      <td>play</td>\n",
       "      <td>273.0</td>\n",
       "      <td>0</td>\n",
       "    </tr>\n",
       "    <tr>\n",
       "      <th>2</th>\n",
       "      <td>151603712</td>\n",
       "      <td>Fallout 4</td>\n",
       "      <td>purchase</td>\n",
       "      <td>1.0</td>\n",
       "      <td>0</td>\n",
       "    </tr>\n",
       "    <tr>\n",
       "      <th>3</th>\n",
       "      <td>151603712</td>\n",
       "      <td>Fallout 4</td>\n",
       "      <td>play</td>\n",
       "      <td>87.0</td>\n",
       "      <td>0</td>\n",
       "    </tr>\n",
       "    <tr>\n",
       "      <th>4</th>\n",
       "      <td>151603712</td>\n",
       "      <td>Spore</td>\n",
       "      <td>purchase</td>\n",
       "      <td>1.0</td>\n",
       "      <td>0</td>\n",
       "    </tr>\n",
       "    <tr>\n",
       "      <th>5</th>\n",
       "      <td>151603712</td>\n",
       "      <td>Spore</td>\n",
       "      <td>play</td>\n",
       "      <td>14.9</td>\n",
       "      <td>0</td>\n",
       "    </tr>\n",
       "    <tr>\n",
       "      <th>6</th>\n",
       "      <td>151603712</td>\n",
       "      <td>Fallout New Vegas</td>\n",
       "      <td>purchase</td>\n",
       "      <td>1.0</td>\n",
       "      <td>0</td>\n",
       "    </tr>\n",
       "    <tr>\n",
       "      <th>7</th>\n",
       "      <td>151603712</td>\n",
       "      <td>Fallout New Vegas</td>\n",
       "      <td>play</td>\n",
       "      <td>12.1</td>\n",
       "      <td>0</td>\n",
       "    </tr>\n",
       "    <tr>\n",
       "      <th>8</th>\n",
       "      <td>151603712</td>\n",
       "      <td>Left 4 Dead 2</td>\n",
       "      <td>purchase</td>\n",
       "      <td>1.0</td>\n",
       "      <td>0</td>\n",
       "    </tr>\n",
       "    <tr>\n",
       "      <th>9</th>\n",
       "      <td>151603712</td>\n",
       "      <td>Left 4 Dead 2</td>\n",
       "      <td>play</td>\n",
       "      <td>8.9</td>\n",
       "      <td>0</td>\n",
       "    </tr>\n",
       "  </tbody>\n",
       "</table>\n",
       "</div>"
      ],
      "text/plain": [
       "     user-id                  game-title behavior-name  value  zero\n",
       "0  151603712  The Elder Scrolls V Skyrim      purchase    1.0     0\n",
       "1  151603712  The Elder Scrolls V Skyrim          play  273.0     0\n",
       "2  151603712                   Fallout 4      purchase    1.0     0\n",
       "3  151603712                   Fallout 4          play   87.0     0\n",
       "4  151603712                       Spore      purchase    1.0     0\n",
       "5  151603712                       Spore          play   14.9     0\n",
       "6  151603712           Fallout New Vegas      purchase    1.0     0\n",
       "7  151603712           Fallout New Vegas          play   12.1     0\n",
       "8  151603712               Left 4 Dead 2      purchase    1.0     0\n",
       "9  151603712               Left 4 Dead 2          play    8.9     0"
      ]
     },
     "execution_count": 114,
     "metadata": {},
     "output_type": "execute_result"
    }
   ],
   "source": [
    "steam_df = pd.read_csv(os.path.join(\"data\", \"steam\", \"steam-200k.csv\"), \n",
    "                       names=['user-id', 'game-title', 'behavior-name', 'value', 'zero'])\n",
    "\n",
    "ml_ratings_df = pd.read_csv(os.path.join(\"data\", \"movielens_small\", \"ratings.csv\"))\n",
    "ml_movies_df = pd.read_csv(os.path.join(\"data\", \"movielens_small\", \"movies.csv\"))\n",
    "steam_df.head(10)"
   ]
  },
  {
   "cell_type": "markdown",
   "id": "alpha-portal",
   "metadata": {},
   "source": [
    "## Merge both MovieLens DataFrames into one"
   ]
  },
  {
   "cell_type": "code",
   "execution_count": 115,
   "id": "affecting-disclosure",
   "metadata": {},
   "outputs": [
    {
     "data": {
      "text/html": [
       "<div>\n",
       "<style scoped>\n",
       "    .dataframe tbody tr th:only-of-type {\n",
       "        vertical-align: middle;\n",
       "    }\n",
       "\n",
       "    .dataframe tbody tr th {\n",
       "        vertical-align: top;\n",
       "    }\n",
       "\n",
       "    .dataframe thead th {\n",
       "        text-align: right;\n",
       "    }\n",
       "</style>\n",
       "<table border=\"1\" class=\"dataframe\">\n",
       "  <thead>\n",
       "    <tr style=\"text-align: right;\">\n",
       "      <th></th>\n",
       "      <th>userId</th>\n",
       "      <th>movieId</th>\n",
       "      <th>rating</th>\n",
       "      <th>timestamp</th>\n",
       "      <th>title</th>\n",
       "      <th>genres</th>\n",
       "    </tr>\n",
       "  </thead>\n",
       "  <tbody>\n",
       "    <tr>\n",
       "      <th>0</th>\n",
       "      <td>1</td>\n",
       "      <td>1</td>\n",
       "      <td>4.0</td>\n",
       "      <td>964982703</td>\n",
       "      <td>Toy Story (1995)</td>\n",
       "      <td>Adventure|Animation|Children|Comedy|Fantasy</td>\n",
       "    </tr>\n",
       "    <tr>\n",
       "      <th>1</th>\n",
       "      <td>5</td>\n",
       "      <td>1</td>\n",
       "      <td>4.0</td>\n",
       "      <td>847434962</td>\n",
       "      <td>Toy Story (1995)</td>\n",
       "      <td>Adventure|Animation|Children|Comedy|Fantasy</td>\n",
       "    </tr>\n",
       "    <tr>\n",
       "      <th>2</th>\n",
       "      <td>7</td>\n",
       "      <td>1</td>\n",
       "      <td>4.5</td>\n",
       "      <td>1106635946</td>\n",
       "      <td>Toy Story (1995)</td>\n",
       "      <td>Adventure|Animation|Children|Comedy|Fantasy</td>\n",
       "    </tr>\n",
       "    <tr>\n",
       "      <th>3</th>\n",
       "      <td>15</td>\n",
       "      <td>1</td>\n",
       "      <td>2.5</td>\n",
       "      <td>1510577970</td>\n",
       "      <td>Toy Story (1995)</td>\n",
       "      <td>Adventure|Animation|Children|Comedy|Fantasy</td>\n",
       "    </tr>\n",
       "    <tr>\n",
       "      <th>4</th>\n",
       "      <td>17</td>\n",
       "      <td>1</td>\n",
       "      <td>4.5</td>\n",
       "      <td>1305696483</td>\n",
       "      <td>Toy Story (1995)</td>\n",
       "      <td>Adventure|Animation|Children|Comedy|Fantasy</td>\n",
       "    </tr>\n",
       "    <tr>\n",
       "      <th>5</th>\n",
       "      <td>18</td>\n",
       "      <td>1</td>\n",
       "      <td>3.5</td>\n",
       "      <td>1455209816</td>\n",
       "      <td>Toy Story (1995)</td>\n",
       "      <td>Adventure|Animation|Children|Comedy|Fantasy</td>\n",
       "    </tr>\n",
       "    <tr>\n",
       "      <th>6</th>\n",
       "      <td>19</td>\n",
       "      <td>1</td>\n",
       "      <td>4.0</td>\n",
       "      <td>965705637</td>\n",
       "      <td>Toy Story (1995)</td>\n",
       "      <td>Adventure|Animation|Children|Comedy|Fantasy</td>\n",
       "    </tr>\n",
       "    <tr>\n",
       "      <th>7</th>\n",
       "      <td>21</td>\n",
       "      <td>1</td>\n",
       "      <td>3.5</td>\n",
       "      <td>1407618878</td>\n",
       "      <td>Toy Story (1995)</td>\n",
       "      <td>Adventure|Animation|Children|Comedy|Fantasy</td>\n",
       "    </tr>\n",
       "    <tr>\n",
       "      <th>8</th>\n",
       "      <td>27</td>\n",
       "      <td>1</td>\n",
       "      <td>3.0</td>\n",
       "      <td>962685262</td>\n",
       "      <td>Toy Story (1995)</td>\n",
       "      <td>Adventure|Animation|Children|Comedy|Fantasy</td>\n",
       "    </tr>\n",
       "    <tr>\n",
       "      <th>9</th>\n",
       "      <td>31</td>\n",
       "      <td>1</td>\n",
       "      <td>5.0</td>\n",
       "      <td>850466616</td>\n",
       "      <td>Toy Story (1995)</td>\n",
       "      <td>Adventure|Animation|Children|Comedy|Fantasy</td>\n",
       "    </tr>\n",
       "  </tbody>\n",
       "</table>\n",
       "</div>"
      ],
      "text/plain": [
       "   userId  movieId  rating   timestamp             title  \\\n",
       "0       1        1     4.0   964982703  Toy Story (1995)   \n",
       "1       5        1     4.0   847434962  Toy Story (1995)   \n",
       "2       7        1     4.5  1106635946  Toy Story (1995)   \n",
       "3      15        1     2.5  1510577970  Toy Story (1995)   \n",
       "4      17        1     4.5  1305696483  Toy Story (1995)   \n",
       "5      18        1     3.5  1455209816  Toy Story (1995)   \n",
       "6      19        1     4.0   965705637  Toy Story (1995)   \n",
       "7      21        1     3.5  1407618878  Toy Story (1995)   \n",
       "8      27        1     3.0   962685262  Toy Story (1995)   \n",
       "9      31        1     5.0   850466616  Toy Story (1995)   \n",
       "\n",
       "                                        genres  \n",
       "0  Adventure|Animation|Children|Comedy|Fantasy  \n",
       "1  Adventure|Animation|Children|Comedy|Fantasy  \n",
       "2  Adventure|Animation|Children|Comedy|Fantasy  \n",
       "3  Adventure|Animation|Children|Comedy|Fantasy  \n",
       "4  Adventure|Animation|Children|Comedy|Fantasy  \n",
       "5  Adventure|Animation|Children|Comedy|Fantasy  \n",
       "6  Adventure|Animation|Children|Comedy|Fantasy  \n",
       "7  Adventure|Animation|Children|Comedy|Fantasy  \n",
       "8  Adventure|Animation|Children|Comedy|Fantasy  \n",
       "9  Adventure|Animation|Children|Comedy|Fantasy  "
      ]
     },
     "execution_count": 115,
     "metadata": {},
     "output_type": "execute_result"
    }
   ],
   "source": [
    "ml_df = pd.merge(ml_ratings_df, ml_movies_df, on='movieId')\n",
    "ml_df.head(10)"
   ]
  },
  {
   "cell_type": "markdown",
   "id": "objective-associate",
   "metadata": {},
   "source": [
    "## Pandas tasks - Steam dataset"
   ]
  },
  {
   "cell_type": "markdown",
   "id": "floppy-american",
   "metadata": {},
   "source": [
    "**Task 5.** How many people made a purchase in the Steam dataset? Remember that a person could buy many games, but you need to count every person once."
   ]
  },
  {
   "cell_type": "code",
   "execution_count": 116,
   "id": "decimal-grass",
   "metadata": {},
   "outputs": [
    {
     "name": "stdout",
     "output_type": "stream",
     "text": [
      "12393\n"
     ]
    }
   ],
   "source": [
    "df = steam_df.loc[(steam_df['behavior-name'] == 'purchase')]\n",
    "print(df['user-id'].nunique())\n"
   ]
  },
  {
   "cell_type": "markdown",
   "id": "protected-glossary",
   "metadata": {},
   "source": [
    "**Task 6.** How many people made a purchase of \"The Elder Scrolls V Skyrim\"?"
   ]
  },
  {
   "cell_type": "code",
   "execution_count": 117,
   "id": "distant-overview",
   "metadata": {},
   "outputs": [
    {
     "name": "stdout",
     "output_type": "stream",
     "text": [
      "717\n"
     ]
    }
   ],
   "source": [
    "df = steam_df.loc[(steam_df['behavior-name'] == 'purchase') & (steam_df['game-title'] == 'The Elder Scrolls V Skyrim')]\n",
    "print(df['user-id'].nunique())\n"
   ]
  },
  {
   "cell_type": "markdown",
   "id": "vocational-weekly",
   "metadata": {},
   "source": [
    "**Task 7.** How many purchases people made on average?"
   ]
  },
  {
   "cell_type": "code",
   "execution_count": 118,
   "id": "reflected-cathedral",
   "metadata": {},
   "outputs": [
    {
     "name": "stdout",
     "output_type": "stream",
     "text": [
      "10.45033486645687\n"
     ]
    }
   ],
   "source": [
    "df = steam_df.loc[(steam_df['behavior-name'] == 'purchase')]\n",
    "all_purchases = len(df)\n",
    "unique_purchasers = df['user-id'].nunique()\n",
    "print(all_purchases/unique_purchasers)\n"
   ]
  },
  {
   "cell_type": "markdown",
   "id": "signed-transaction",
   "metadata": {},
   "source": [
    "**Task 8.** Who bought the most games?"
   ]
  },
  {
   "cell_type": "code",
   "execution_count": 119,
   "id": "handmade-revolution",
   "metadata": {},
   "outputs": [
    {
     "name": "stdout",
     "output_type": "stream",
     "text": [
      "62990992\n"
     ]
    }
   ],
   "source": [
    "df = steam_df.loc[(steam_df['behavior-name'] == 'purchase')]\n",
    "print(df['user-id'].value_counts().idxmax())"
   ]
  },
  {
   "cell_type": "markdown",
   "id": "piano-bobby",
   "metadata": {},
   "source": [
    "**Task 9.** How many hours on average people played in \"The Elder Scrolls V Skyrim\"?"
   ]
  },
  {
   "cell_type": "code",
   "execution_count": 120,
   "id": "hydraulic-observation",
   "metadata": {},
   "outputs": [
    {
     "name": "stdout",
     "output_type": "stream",
     "text": [
      "104.71093057607091\n"
     ]
    }
   ],
   "source": [
    "df = steam_df.loc[(steam_df['game-title'] == 'The Elder Scrolls V Skyrim') & (steam_df['behavior-name'] == 'play')]\n",
    "print(df['value'].sum()/df['user-id'].nunique())\n"
   ]
  },
  {
   "cell_type": "markdown",
   "id": "stuffed-creativity",
   "metadata": {},
   "source": [
    "**Task 10.** Which games were played the most (in terms of the number of hours played)? Print the first 10 titles and respective numbers of hours."
   ]
  },
  {
   "cell_type": "code",
   "execution_count": 121,
   "id": "challenging-truck",
   "metadata": {},
   "outputs": [
    {
     "data": {
      "text/html": [
       "<div>\n",
       "<style scoped>\n",
       "    .dataframe tbody tr th:only-of-type {\n",
       "        vertical-align: middle;\n",
       "    }\n",
       "\n",
       "    .dataframe tbody tr th {\n",
       "        vertical-align: top;\n",
       "    }\n",
       "\n",
       "    .dataframe thead th {\n",
       "        text-align: right;\n",
       "    }\n",
       "</style>\n",
       "<table border=\"1\" class=\"dataframe\">\n",
       "  <thead>\n",
       "    <tr style=\"text-align: right;\">\n",
       "      <th></th>\n",
       "      <th>game-title</th>\n",
       "      <th>hours</th>\n",
       "    </tr>\n",
       "  </thead>\n",
       "  <tbody>\n",
       "    <tr>\n",
       "      <th>922</th>\n",
       "      <td>Dota 2</td>\n",
       "      <td>981684.6</td>\n",
       "    </tr>\n",
       "    <tr>\n",
       "      <th>673</th>\n",
       "      <td>Counter-Strike Global Offensive</td>\n",
       "      <td>322771.6</td>\n",
       "    </tr>\n",
       "    <tr>\n",
       "      <th>2994</th>\n",
       "      <td>Team Fortress 2</td>\n",
       "      <td>173673.3</td>\n",
       "    </tr>\n",
       "    <tr>\n",
       "      <th>670</th>\n",
       "      <td>Counter-Strike</td>\n",
       "      <td>134261.1</td>\n",
       "    </tr>\n",
       "    <tr>\n",
       "      <th>2691</th>\n",
       "      <td>Sid Meier's Civilization V</td>\n",
       "      <td>99821.3</td>\n",
       "    </tr>\n",
       "    <tr>\n",
       "      <th>675</th>\n",
       "      <td>Counter-Strike Source</td>\n",
       "      <td>96075.5</td>\n",
       "    </tr>\n",
       "    <tr>\n",
       "      <th>3067</th>\n",
       "      <td>The Elder Scrolls V Skyrim</td>\n",
       "      <td>70889.3</td>\n",
       "    </tr>\n",
       "    <tr>\n",
       "      <th>1313</th>\n",
       "      <td>Garry's Mod</td>\n",
       "      <td>49725.3</td>\n",
       "    </tr>\n",
       "    <tr>\n",
       "      <th>490</th>\n",
       "      <td>Call of Duty Modern Warfare 2 - Multiplayer</td>\n",
       "      <td>42009.9</td>\n",
       "    </tr>\n",
       "    <tr>\n",
       "      <th>1733</th>\n",
       "      <td>Left 4 Dead 2</td>\n",
       "      <td>33596.7</td>\n",
       "    </tr>\n",
       "  </tbody>\n",
       "</table>\n",
       "</div>"
      ],
      "text/plain": [
       "                                       game-title     hours\n",
       "922                                        Dota 2  981684.6\n",
       "673               Counter-Strike Global Offensive  322771.6\n",
       "2994                              Team Fortress 2  173673.3\n",
       "670                                Counter-Strike  134261.1\n",
       "2691                   Sid Meier's Civilization V   99821.3\n",
       "675                         Counter-Strike Source   96075.5\n",
       "3067                   The Elder Scrolls V Skyrim   70889.3\n",
       "1313                                  Garry's Mod   49725.3\n",
       "490   Call of Duty Modern Warfare 2 - Multiplayer   42009.9\n",
       "1733                                Left 4 Dead 2   33596.7"
      ]
     },
     "execution_count": 121,
     "metadata": {},
     "output_type": "execute_result"
    }
   ],
   "source": [
    "df = steam_df.loc[(steam_df['behavior-name'] == 'play')]\n",
    "df.groupby('game-title')['value'].sum().reset_index(name ='hours').nlargest(10, 'hours')\n",
    "\n"
   ]
  },
  {
   "cell_type": "markdown",
   "id": "crude-petroleum",
   "metadata": {},
   "source": [
    "**Task 11.** Which games are the most consistently played (in terms of the average number of hours played)? Print the first 10 titles and respective numbers of hours."
   ]
  },
  {
   "cell_type": "code",
   "execution_count": 122,
   "id": "surgical-lawsuit",
   "metadata": {},
   "outputs": [
    {
     "name": "stdout",
     "output_type": "stream",
     "text": [
      "                                  game-title  avg_hours\n",
      "3487                             Wolfenstein   0.000046\n",
      "214                                 Armikrog   0.000016\n",
      "1259                       Freaking Meatbags   0.000010\n",
      "1119                         FIFA Manager 09   0.000009\n",
      "2659                         Shattered Union   0.000007\n",
      "3505           Worldwide Soccer Manager 2009   0.000007\n",
      "2945  Sword of the Stars Complete Collection   0.000007\n",
      "1231                   Football Manager 2010   0.000007\n",
      "285        Baldur's Gate II Enhanced Edition   0.000006\n",
      "1011                 Eastside Hockey Manager   0.000006\n"
     ]
    }
   ],
   "source": [
    "df = steam_df.loc[(steam_df['behavior-name'] == 'play')]\n",
    "hours_sum = df.groupby('game-title')['value'].sum().reset_index(name ='hours')\n",
    "players = df.groupby('game-title')['user-id'].sum().reset_index(name ='players')\n",
    "avg = hours_sum.merge(players)\n",
    "avg['avg_hours'] = avg['hours']/avg['players']\n",
    "print(avg[['game-title', 'avg_hours']].nlargest(10, 'avg_hours'))\n",
    "\n",
    "\n",
    "\n",
    "\n",
    "\n",
    "\n"
   ]
  },
  {
   "cell_type": "markdown",
   "id": "monetary-toyota",
   "metadata": {},
   "source": [
    "**Task 12\\*\\*.** Fix the above for the fact that 0 hours played is not listed, but only a purchase is recorded in such a case."
   ]
  },
  {
   "cell_type": "code",
   "execution_count": 141,
   "id": "protective-report",
   "metadata": {},
   "outputs": [
    {
     "name": "stdout",
     "output_type": "stream",
     "text": [
      "                             game-title  avg_hours\n",
      "341                            Armikrog   0.000008\n",
      "1606                    FIFA Manager 09   0.000004\n",
      "5019      Worldwide Soccer Manager 2009   0.000003\n",
      "1760              Football Manager 2010   0.000003\n",
      "1458            Eastside Hockey Manager   0.000003\n",
      "3130                          Perpetuum   0.000003\n",
      "1761              Football Manager 2011   0.000003\n",
      "2095                           Hardland   0.000003\n",
      "1762              Football Manager 2012   0.000003\n",
      "436   Baldur's Gate II Enhanced Edition   0.000003\n"
     ]
    }
   ],
   "source": [
    "df = steam_df.copy()\n",
    "df['value'] = np.where(df['behavior-name']=='purchase',0,df['value'] )\n",
    "hours_sum = df.groupby('game-title')['value'].sum().reset_index(name ='hours')\n",
    "players = df.groupby('game-title')['user-id'].sum().reset_index(name ='players')\n",
    "avg = hours_sum.merge(players)\n",
    "avg['avg_hours'] = avg['hours']/avg['players']\n",
    "print(avg[['game-title', 'avg_hours']].nlargest(10, 'avg_hours'))"
   ]
  },
  {
   "cell_type": "markdown",
   "id": "ceramic-awareness",
   "metadata": {},
   "source": [
    "**Task 13.** Apply the sigmoid function\n",
    "$$f(x) = \\frac{1}{1 + e^{-\\frac{1}{100}x}}$$\n",
    "to hours played and print the first 10 rows from the entire Steam dataset after this change."
   ]
  },
  {
   "cell_type": "code",
   "execution_count": 143,
   "id": "optical-announcement",
   "metadata": {},
   "outputs": [
    {
     "data": {
      "text/html": [
       "<div>\n",
       "<style scoped>\n",
       "    .dataframe tbody tr th:only-of-type {\n",
       "        vertical-align: middle;\n",
       "    }\n",
       "\n",
       "    .dataframe tbody tr th {\n",
       "        vertical-align: top;\n",
       "    }\n",
       "\n",
       "    .dataframe thead th {\n",
       "        text-align: right;\n",
       "    }\n",
       "</style>\n",
       "<table border=\"1\" class=\"dataframe\">\n",
       "  <thead>\n",
       "    <tr style=\"text-align: right;\">\n",
       "      <th></th>\n",
       "      <th>user-id</th>\n",
       "      <th>game-title</th>\n",
       "      <th>behavior-name</th>\n",
       "      <th>value</th>\n",
       "      <th>zero</th>\n",
       "    </tr>\n",
       "  </thead>\n",
       "  <tbody>\n",
       "    <tr>\n",
       "      <th>1</th>\n",
       "      <td>151603712</td>\n",
       "      <td>The Elder Scrolls V Skyrim</td>\n",
       "      <td>play</td>\n",
       "      <td>0.938774</td>\n",
       "      <td>0</td>\n",
       "    </tr>\n",
       "    <tr>\n",
       "      <th>3</th>\n",
       "      <td>151603712</td>\n",
       "      <td>Fallout 4</td>\n",
       "      <td>play</td>\n",
       "      <td>0.704746</td>\n",
       "      <td>0</td>\n",
       "    </tr>\n",
       "    <tr>\n",
       "      <th>5</th>\n",
       "      <td>151603712</td>\n",
       "      <td>Spore</td>\n",
       "      <td>play</td>\n",
       "      <td>0.537181</td>\n",
       "      <td>0</td>\n",
       "    </tr>\n",
       "    <tr>\n",
       "      <th>7</th>\n",
       "      <td>151603712</td>\n",
       "      <td>Fallout New Vegas</td>\n",
       "      <td>play</td>\n",
       "      <td>0.530213</td>\n",
       "      <td>0</td>\n",
       "    </tr>\n",
       "    <tr>\n",
       "      <th>9</th>\n",
       "      <td>151603712</td>\n",
       "      <td>Left 4 Dead 2</td>\n",
       "      <td>play</td>\n",
       "      <td>0.522235</td>\n",
       "      <td>0</td>\n",
       "    </tr>\n",
       "    <tr>\n",
       "      <th>11</th>\n",
       "      <td>151603712</td>\n",
       "      <td>HuniePop</td>\n",
       "      <td>play</td>\n",
       "      <td>0.521237</td>\n",
       "      <td>0</td>\n",
       "    </tr>\n",
       "    <tr>\n",
       "      <th>13</th>\n",
       "      <td>151603712</td>\n",
       "      <td>Path of Exile</td>\n",
       "      <td>play</td>\n",
       "      <td>0.520239</td>\n",
       "      <td>0</td>\n",
       "    </tr>\n",
       "    <tr>\n",
       "      <th>15</th>\n",
       "      <td>151603712</td>\n",
       "      <td>Poly Bridge</td>\n",
       "      <td>play</td>\n",
       "      <td>0.518741</td>\n",
       "      <td>0</td>\n",
       "    </tr>\n",
       "    <tr>\n",
       "      <th>17</th>\n",
       "      <td>151603712</td>\n",
       "      <td>Left 4 Dead</td>\n",
       "      <td>play</td>\n",
       "      <td>0.508249</td>\n",
       "      <td>0</td>\n",
       "    </tr>\n",
       "    <tr>\n",
       "      <th>19</th>\n",
       "      <td>151603712</td>\n",
       "      <td>Team Fortress 2</td>\n",
       "      <td>play</td>\n",
       "      <td>0.507000</td>\n",
       "      <td>0</td>\n",
       "    </tr>\n",
       "  </tbody>\n",
       "</table>\n",
       "</div>"
      ],
      "text/plain": [
       "      user-id                  game-title behavior-name     value  zero\n",
       "1   151603712  The Elder Scrolls V Skyrim          play  0.938774     0\n",
       "3   151603712                   Fallout 4          play  0.704746     0\n",
       "5   151603712                       Spore          play  0.537181     0\n",
       "7   151603712           Fallout New Vegas          play  0.530213     0\n",
       "9   151603712               Left 4 Dead 2          play  0.522235     0\n",
       "11  151603712                    HuniePop          play  0.521237     0\n",
       "13  151603712               Path of Exile          play  0.520239     0\n",
       "15  151603712                 Poly Bridge          play  0.518741     0\n",
       "17  151603712                 Left 4 Dead          play  0.508249     0\n",
       "19  151603712             Team Fortress 2          play  0.507000     0"
      ]
     },
     "metadata": {},
     "output_type": "display_data"
    }
   ],
   "source": [
    "def sigmoid(x):\n",
    "    return 1/(1+np.exp(-(1/100)*x))\n",
    "\n",
    "df = steam_df.loc[steam_df['behavior-name']=='play'].copy()\n",
    "df['value'] = df['value'].map(lambda a: sigmoid(a))\n",
    "display(df.head(10))\n"
   ]
  },
  {
   "cell_type": "markdown",
   "id": "actual-spotlight",
   "metadata": {},
   "source": [
    "## Pandas tasks - MovieLens dataset"
   ]
  },
  {
   "cell_type": "markdown",
   "id": "inclusive-crash",
   "metadata": {},
   "source": [
    "**Task 14\\*.** Calculate popularity (by the number of users who watched a movie) of all genres. Print a DataFrame with two columns: genre, n_users, where n_users contains the number of users who watched a given genre. Sort all genres in descending order."
   ]
  },
  {
   "cell_type": "code",
   "execution_count": null,
   "id": "developmental-seven",
   "metadata": {},
   "outputs": [],
   "source": [
    "# Write your code here"
   ]
  },
  {
   "cell_type": "markdown",
   "id": "personalized-finland",
   "metadata": {},
   "source": [
    "**Task 15\\*.** Calculate average rating for all genres. Print a DataFrame with two columns: genre, rating, where rating contains the average rating for a given genre. Sort all genres in descending order."
   ]
  },
  {
   "cell_type": "code",
   "execution_count": null,
   "id": "inside-personal",
   "metadata": {},
   "outputs": [],
   "source": [
    "# Write your code here"
   ]
  },
  {
   "cell_type": "markdown",
   "id": "vertical-stick",
   "metadata": {},
   "source": [
    "**Task 17.** Calculate each movie rating bias (deviation from the mean of all movies average rating). Print first 10 in the form: title, average rating, bias."
   ]
  },
  {
   "cell_type": "code",
   "execution_count": null,
   "id": "greatest-screen",
   "metadata": {},
   "outputs": [],
   "source": [
    "# Write your code here"
   ]
  },
  {
   "cell_type": "markdown",
   "id": "hawaiian-haiti",
   "metadata": {},
   "source": [
    "**Task 17.** Calculate each user rating bias (deviation from the mean of all users average rating). Print first 10 in the form: user_id, average rating, bias."
   ]
  },
  {
   "cell_type": "code",
   "execution_count": null,
   "id": "charitable-guyana",
   "metadata": {},
   "outputs": [],
   "source": [
    "# Write your code here"
   ]
  },
  {
   "cell_type": "markdown",
   "id": "intimate-porcelain",
   "metadata": {},
   "source": [
    "**Task 18.** Randomly choose 10 movies and 10 users and print their interaction matrix in the form of a DataFrame with user_id as index and movie titles as columns. You can iterate over the DataFrame in this task."
   ]
  },
  {
   "cell_type": "code",
   "execution_count": null,
   "id": "brazilian-frost",
   "metadata": {},
   "outputs": [],
   "source": [
    "# Write your code here"
   ]
  },
  {
   "cell_type": "markdown",
   "id": "boolean-modem",
   "metadata": {},
   "source": [
    "## Pandas + numpy tasks"
   ]
  },
  {
   "cell_type": "markdown",
   "id": "worldwide-disclaimer",
   "metadata": {},
   "source": [
    "**Task 19.** Create the entire interaction matrix for the MovieLens dataset. Print the submatrix of first 10 rows and 10 columns."
   ]
  },
  {
   "cell_type": "code",
   "execution_count": null,
   "id": "marine-initial",
   "metadata": {},
   "outputs": [],
   "source": [
    "# Write your code here"
   ]
  },
  {
   "cell_type": "markdown",
   "id": "micro-vision",
   "metadata": {},
   "source": [
    "**Task 20.** Calculate the matrix of size (n_users, n_users) where at position (i, j) there is the number of movies watched both by user i and user j. Print the submatrix of first 10 rows and 10 columns."
   ]
  },
  {
   "cell_type": "code",
   "execution_count": null,
   "id": "swedish-lambda",
   "metadata": {},
   "outputs": [],
   "source": [
    "# Write your code here"
   ]
  },
  {
   "cell_type": "markdown",
   "id": "shaped-advance",
   "metadata": {},
   "source": [
    "**Task 21.** Calculate the matrix of size (n_items, n_items) where at position (i, j) there is the number of users who watched both movie i and movie j. To prevent hanging your computer because of RAM shortage use only the first 1000 items. Print the submatrix of first 10 rows and 10 columns."
   ]
  },
  {
   "cell_type": "code",
   "execution_count": null,
   "id": "quality-bubble",
   "metadata": {},
   "outputs": [],
   "source": [
    "# Write your code here"
   ]
  }
 ],
 "metadata": {
  "kernelspec": {
   "display_name": "Python 3 (ipykernel)",
   "language": "python",
   "name": "python3"
  },
  "language_info": {
   "codemirror_mode": {
    "name": "ipython",
    "version": 3
   },
   "file_extension": ".py",
   "mimetype": "text/x-python",
   "name": "python",
   "nbconvert_exporter": "python",
   "pygments_lexer": "ipython3",
   "version": "3.9.7"
  }
 },
 "nbformat": 4,
 "nbformat_minor": 5
}
