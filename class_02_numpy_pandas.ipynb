{
 "cells": [
  {
   "cell_type": "code",
   "execution_count": 1,
   "id": "spread-happiness",
   "metadata": {},
   "outputs": [],
   "source": [
    "%matplotlib inline\n",
    "%load_ext autoreload\n",
    "%autoreload 2\n",
    "\n",
    "import numpy as np\n",
    "import pandas as pd\n",
    "import matplotlib.pyplot as plt\n",
    "import seaborn as sns\n",
    "from IPython.display import Markdown, display, HTML\n",
    "\n",
    "# Fix the dying kernel problem (only a problem in some installations - you can remove it, if it works without it)\n",
    "import os\n",
    "os.environ['KMP_DUPLICATE_LIB_OK'] = 'True'"
   ]
  },
  {
   "cell_type": "markdown",
   "id": "approximate-classic",
   "metadata": {},
   "source": [
    "# Numpy tasks\n",
    "\n",
    "For a detailed reference check out: https://numpy.org/doc/stable/reference/arrays.indexing.html."
   ]
  },
  {
   "cell_type": "markdown",
   "id": "regular-niger",
   "metadata": {},
   "source": [
    "**Task 1.** Calculate the sigmoid (logistic) function on every element of the following numpy array [0.3, 1.2, -1.4, 0.2, -0.1, 0.1, 0.8, -0.25] and print the last 5 elements. Use only vector operations."
   ]
  },
  {
   "cell_type": "code",
   "execution_count": 2,
   "id": "agreed-single",
   "metadata": {},
   "outputs": [
    {
     "name": "stdout",
     "output_type": "stream",
     "text": [
      "[0.549834   0.47502081 0.52497919 0.68997448 0.4378235 ]\n"
     ]
    }
   ],
   "source": [
    "a = np.array([0.3, 1.2, -1.4, 0.2, -0.1, 0.1, 0.8, -0.25])\n",
    "a = 1 / (1 + np.exp(-a[:]))\n",
    "print(a[-5:])"
   ]
  },
  {
   "cell_type": "markdown",
   "id": "another-catch",
   "metadata": {},
   "source": [
    "**Task 2.** Calculate the dot product of the following two vectors:<br/>\n",
    "$x = [3, 1, 4, 2, 6, 1, 4, 8]$<br/>\n",
    "$y = [5, 2, 3, 12, 2, 4, 17, 11]$<br/>\n",
    "a) by using element-wise mutliplication and np.sum,<br/>\n",
    "b) by using np.dot,<br/>\n",
    "b) by using np.matmul and transposition (x.T)."
   ]
  },
  {
   "cell_type": "code",
   "execution_count": 3,
   "id": "forbidden-journalism",
   "metadata": {},
   "outputs": [
    {
     "name": "stdout",
     "output_type": "stream",
     "text": [
      "225\n",
      "225\n",
      "225\n"
     ]
    }
   ],
   "source": [
    "x=np.array([3,1,4,2,6,1,4,8]) \n",
    "y=np.array([5,2,3,12,2,4,17,11])\n",
    "\n",
    "# a) by using element-wise mutliplication and np.sum\n",
    "print(np.sum(x * y))\n",
    "\n",
    "# b) by using np.dot\n",
    "print(np.dot(x,y))\n",
    "\n",
    "# c) by using np.matmul and transposition (x.T)\n",
    "print(np.matmul(x.T,y))\n"
   ]
  },
  {
   "cell_type": "markdown",
   "id": "acute-amber",
   "metadata": {},
   "source": [
    "**Task 3.** Calculate value of the logistic model<br/>\n",
    "$$y = \\frac{1}{1 + e^{-x_0 \\theta_0 - \\ldots - x_9 \\theta_9 - \\theta_{10}}}$$\n",
    "for<br/>\n",
    "$x = [1.2, 2.3, 3.4, -0.7, 4.2, 2.7, -0.5, 1.4, -3.3, 0.2]$<br/>\n",
    "$\\theta = [2.7, 0.33, -2.12, -1.73, 2.9, -5.8, -0.9, 12.11, 3.43, -0.5, -1.65]$<br/>\n",
    "and print the result. Use only vector operations."
   ]
  },
  {
   "cell_type": "code",
   "execution_count": 4,
   "id": "falling-holder",
   "metadata": {},
   "outputs": [
    {
     "name": "stdout",
     "output_type": "stream",
     "text": [
      "0.2417699832615572\n"
     ]
    }
   ],
   "source": [
    "x = np.array([1.2,2.3,3.4,-0.7,4.2,2.7,-0.5,1.4,-3.3,0.2])\n",
    "theta = np.array([2.7, 0.33, -2.12, -1.73, 2.9, -5.8, -0.9, 12.11, 3.43, -0.5, -1.65])\n",
    "\n",
    "y = 1/(1 + np.exp(np.sum(-x[:10]*theta[:10]) - theta[10]))\n",
    "print(y)\n"
   ]
  },
  {
   "cell_type": "markdown",
   "id": "encouraging-clear",
   "metadata": {},
   "source": [
    "**Task 4.** Calculate value of the multivariate linear regression model<br/>\n",
    "$$y = A x + B$$\n",
    "for<br/>\n",
    "$A = \\begin{bmatrix} 1 & 2 & 1 \\\\ 3 & 0 & 1 \\end{bmatrix}$<br/>\n",
    "$B = \\begin{bmatrix} 0.2 \\\\ 0.3 \\end{bmatrix}$<br/>\n",
    "$x = [1, 2, 3]^T$<br/>\n",
    "and print the result. Use only vector and matrix operations."
   ]
  },
  {
   "cell_type": "code",
   "execution_count": 5,
   "id": "casual-emergency",
   "metadata": {},
   "outputs": [
    {
     "name": "stdout",
     "output_type": "stream",
     "text": [
      "[[8.2]\n",
      " [6.3]]\n"
     ]
    }
   ],
   "source": [
    "A = np.array([[1,2,1],[3,0,1]])\n",
    "B = np.array([[0.2],[0.3]])\n",
    "x = np.transpose([np.array([1,2,3])])\n",
    "print(np.matmul(A,x) + B)\n",
    "\n"
   ]
  },
  {
   "cell_type": "markdown",
   "id": "latter-vector",
   "metadata": {},
   "source": [
    "# Pandas"
   ]
  },
  {
   "cell_type": "markdown",
   "id": "contrary-vacuum",
   "metadata": {},
   "source": [
    "## Load datasets\n",
    "\n",
    "- Steam (https://www.kaggle.com/tamber/steam-video-games)\n",
    "\n",
    "- MovieLens (https://grouplens.org/datasets/movielens/)"
   ]
  },
  {
   "cell_type": "code",
   "execution_count": 6,
   "id": "alert-friday",
   "metadata": {},
   "outputs": [
    {
     "data": {
      "text/html": [
       "<div>\n",
       "<style scoped>\n",
       "    .dataframe tbody tr th:only-of-type {\n",
       "        vertical-align: middle;\n",
       "    }\n",
       "\n",
       "    .dataframe tbody tr th {\n",
       "        vertical-align: top;\n",
       "    }\n",
       "\n",
       "    .dataframe thead th {\n",
       "        text-align: right;\n",
       "    }\n",
       "</style>\n",
       "<table border=\"1\" class=\"dataframe\">\n",
       "  <thead>\n",
       "    <tr style=\"text-align: right;\">\n",
       "      <th></th>\n",
       "      <th>user-id</th>\n",
       "      <th>game-title</th>\n",
       "      <th>behavior-name</th>\n",
       "      <th>value</th>\n",
       "      <th>zero</th>\n",
       "    </tr>\n",
       "  </thead>\n",
       "  <tbody>\n",
       "    <tr>\n",
       "      <th>0</th>\n",
       "      <td>151603712</td>\n",
       "      <td>The Elder Scrolls V Skyrim</td>\n",
       "      <td>purchase</td>\n",
       "      <td>1.0</td>\n",
       "      <td>0</td>\n",
       "    </tr>\n",
       "    <tr>\n",
       "      <th>1</th>\n",
       "      <td>151603712</td>\n",
       "      <td>The Elder Scrolls V Skyrim</td>\n",
       "      <td>play</td>\n",
       "      <td>273.0</td>\n",
       "      <td>0</td>\n",
       "    </tr>\n",
       "    <tr>\n",
       "      <th>2</th>\n",
       "      <td>151603712</td>\n",
       "      <td>Fallout 4</td>\n",
       "      <td>purchase</td>\n",
       "      <td>1.0</td>\n",
       "      <td>0</td>\n",
       "    </tr>\n",
       "    <tr>\n",
       "      <th>3</th>\n",
       "      <td>151603712</td>\n",
       "      <td>Fallout 4</td>\n",
       "      <td>play</td>\n",
       "      <td>87.0</td>\n",
       "      <td>0</td>\n",
       "    </tr>\n",
       "    <tr>\n",
       "      <th>4</th>\n",
       "      <td>151603712</td>\n",
       "      <td>Spore</td>\n",
       "      <td>purchase</td>\n",
       "      <td>1.0</td>\n",
       "      <td>0</td>\n",
       "    </tr>\n",
       "    <tr>\n",
       "      <th>5</th>\n",
       "      <td>151603712</td>\n",
       "      <td>Spore</td>\n",
       "      <td>play</td>\n",
       "      <td>14.9</td>\n",
       "      <td>0</td>\n",
       "    </tr>\n",
       "    <tr>\n",
       "      <th>6</th>\n",
       "      <td>151603712</td>\n",
       "      <td>Fallout New Vegas</td>\n",
       "      <td>purchase</td>\n",
       "      <td>1.0</td>\n",
       "      <td>0</td>\n",
       "    </tr>\n",
       "    <tr>\n",
       "      <th>7</th>\n",
       "      <td>151603712</td>\n",
       "      <td>Fallout New Vegas</td>\n",
       "      <td>play</td>\n",
       "      <td>12.1</td>\n",
       "      <td>0</td>\n",
       "    </tr>\n",
       "    <tr>\n",
       "      <th>8</th>\n",
       "      <td>151603712</td>\n",
       "      <td>Left 4 Dead 2</td>\n",
       "      <td>purchase</td>\n",
       "      <td>1.0</td>\n",
       "      <td>0</td>\n",
       "    </tr>\n",
       "    <tr>\n",
       "      <th>9</th>\n",
       "      <td>151603712</td>\n",
       "      <td>Left 4 Dead 2</td>\n",
       "      <td>play</td>\n",
       "      <td>8.9</td>\n",
       "      <td>0</td>\n",
       "    </tr>\n",
       "  </tbody>\n",
       "</table>\n",
       "</div>"
      ],
      "text/plain": [
       "     user-id                  game-title behavior-name  value  zero\n",
       "0  151603712  The Elder Scrolls V Skyrim      purchase    1.0     0\n",
       "1  151603712  The Elder Scrolls V Skyrim          play  273.0     0\n",
       "2  151603712                   Fallout 4      purchase    1.0     0\n",
       "3  151603712                   Fallout 4          play   87.0     0\n",
       "4  151603712                       Spore      purchase    1.0     0\n",
       "5  151603712                       Spore          play   14.9     0\n",
       "6  151603712           Fallout New Vegas      purchase    1.0     0\n",
       "7  151603712           Fallout New Vegas          play   12.1     0\n",
       "8  151603712               Left 4 Dead 2      purchase    1.0     0\n",
       "9  151603712               Left 4 Dead 2          play    8.9     0"
      ]
     },
     "execution_count": 6,
     "metadata": {},
     "output_type": "execute_result"
    }
   ],
   "source": [
    "steam_df = pd.read_csv(os.path.join(\"data\", \"steam\", \"steam-200k.csv\"), \n",
    "                       names=['user-id', 'game-title', 'behavior-name', 'value', 'zero'])\n",
    "\n",
    "ml_ratings_df = pd.read_csv(os.path.join(\"data\", \"movielens_small\", \"ratings.csv\"))\n",
    "ml_movies_df = pd.read_csv(os.path.join(\"data\", \"movielens_small\", \"movies.csv\"))\n",
    "steam_df.head(10)"
   ]
  },
  {
   "cell_type": "markdown",
   "id": "alpha-portal",
   "metadata": {},
   "source": [
    "## Merge both MovieLens DataFrames into one"
   ]
  },
  {
   "cell_type": "code",
   "execution_count": 7,
   "id": "affecting-disclosure",
   "metadata": {},
   "outputs": [
    {
     "data": {
      "text/html": [
       "<div>\n",
       "<style scoped>\n",
       "    .dataframe tbody tr th:only-of-type {\n",
       "        vertical-align: middle;\n",
       "    }\n",
       "\n",
       "    .dataframe tbody tr th {\n",
       "        vertical-align: top;\n",
       "    }\n",
       "\n",
       "    .dataframe thead th {\n",
       "        text-align: right;\n",
       "    }\n",
       "</style>\n",
       "<table border=\"1\" class=\"dataframe\">\n",
       "  <thead>\n",
       "    <tr style=\"text-align: right;\">\n",
       "      <th></th>\n",
       "      <th>userId</th>\n",
       "      <th>movieId</th>\n",
       "      <th>rating</th>\n",
       "      <th>timestamp</th>\n",
       "      <th>title</th>\n",
       "      <th>genres</th>\n",
       "    </tr>\n",
       "  </thead>\n",
       "  <tbody>\n",
       "    <tr>\n",
       "      <th>0</th>\n",
       "      <td>1</td>\n",
       "      <td>1</td>\n",
       "      <td>4.0</td>\n",
       "      <td>964982703</td>\n",
       "      <td>Toy Story (1995)</td>\n",
       "      <td>Adventure|Animation|Children|Comedy|Fantasy</td>\n",
       "    </tr>\n",
       "    <tr>\n",
       "      <th>1</th>\n",
       "      <td>5</td>\n",
       "      <td>1</td>\n",
       "      <td>4.0</td>\n",
       "      <td>847434962</td>\n",
       "      <td>Toy Story (1995)</td>\n",
       "      <td>Adventure|Animation|Children|Comedy|Fantasy</td>\n",
       "    </tr>\n",
       "    <tr>\n",
       "      <th>2</th>\n",
       "      <td>7</td>\n",
       "      <td>1</td>\n",
       "      <td>4.5</td>\n",
       "      <td>1106635946</td>\n",
       "      <td>Toy Story (1995)</td>\n",
       "      <td>Adventure|Animation|Children|Comedy|Fantasy</td>\n",
       "    </tr>\n",
       "    <tr>\n",
       "      <th>3</th>\n",
       "      <td>15</td>\n",
       "      <td>1</td>\n",
       "      <td>2.5</td>\n",
       "      <td>1510577970</td>\n",
       "      <td>Toy Story (1995)</td>\n",
       "      <td>Adventure|Animation|Children|Comedy|Fantasy</td>\n",
       "    </tr>\n",
       "    <tr>\n",
       "      <th>4</th>\n",
       "      <td>17</td>\n",
       "      <td>1</td>\n",
       "      <td>4.5</td>\n",
       "      <td>1305696483</td>\n",
       "      <td>Toy Story (1995)</td>\n",
       "      <td>Adventure|Animation|Children|Comedy|Fantasy</td>\n",
       "    </tr>\n",
       "    <tr>\n",
       "      <th>5</th>\n",
       "      <td>18</td>\n",
       "      <td>1</td>\n",
       "      <td>3.5</td>\n",
       "      <td>1455209816</td>\n",
       "      <td>Toy Story (1995)</td>\n",
       "      <td>Adventure|Animation|Children|Comedy|Fantasy</td>\n",
       "    </tr>\n",
       "    <tr>\n",
       "      <th>6</th>\n",
       "      <td>19</td>\n",
       "      <td>1</td>\n",
       "      <td>4.0</td>\n",
       "      <td>965705637</td>\n",
       "      <td>Toy Story (1995)</td>\n",
       "      <td>Adventure|Animation|Children|Comedy|Fantasy</td>\n",
       "    </tr>\n",
       "    <tr>\n",
       "      <th>7</th>\n",
       "      <td>21</td>\n",
       "      <td>1</td>\n",
       "      <td>3.5</td>\n",
       "      <td>1407618878</td>\n",
       "      <td>Toy Story (1995)</td>\n",
       "      <td>Adventure|Animation|Children|Comedy|Fantasy</td>\n",
       "    </tr>\n",
       "    <tr>\n",
       "      <th>8</th>\n",
       "      <td>27</td>\n",
       "      <td>1</td>\n",
       "      <td>3.0</td>\n",
       "      <td>962685262</td>\n",
       "      <td>Toy Story (1995)</td>\n",
       "      <td>Adventure|Animation|Children|Comedy|Fantasy</td>\n",
       "    </tr>\n",
       "    <tr>\n",
       "      <th>9</th>\n",
       "      <td>31</td>\n",
       "      <td>1</td>\n",
       "      <td>5.0</td>\n",
       "      <td>850466616</td>\n",
       "      <td>Toy Story (1995)</td>\n",
       "      <td>Adventure|Animation|Children|Comedy|Fantasy</td>\n",
       "    </tr>\n",
       "  </tbody>\n",
       "</table>\n",
       "</div>"
      ],
      "text/plain": [
       "   userId  movieId  rating   timestamp             title  \\\n",
       "0       1        1     4.0   964982703  Toy Story (1995)   \n",
       "1       5        1     4.0   847434962  Toy Story (1995)   \n",
       "2       7        1     4.5  1106635946  Toy Story (1995)   \n",
       "3      15        1     2.5  1510577970  Toy Story (1995)   \n",
       "4      17        1     4.5  1305696483  Toy Story (1995)   \n",
       "5      18        1     3.5  1455209816  Toy Story (1995)   \n",
       "6      19        1     4.0   965705637  Toy Story (1995)   \n",
       "7      21        1     3.5  1407618878  Toy Story (1995)   \n",
       "8      27        1     3.0   962685262  Toy Story (1995)   \n",
       "9      31        1     5.0   850466616  Toy Story (1995)   \n",
       "\n",
       "                                        genres  \n",
       "0  Adventure|Animation|Children|Comedy|Fantasy  \n",
       "1  Adventure|Animation|Children|Comedy|Fantasy  \n",
       "2  Adventure|Animation|Children|Comedy|Fantasy  \n",
       "3  Adventure|Animation|Children|Comedy|Fantasy  \n",
       "4  Adventure|Animation|Children|Comedy|Fantasy  \n",
       "5  Adventure|Animation|Children|Comedy|Fantasy  \n",
       "6  Adventure|Animation|Children|Comedy|Fantasy  \n",
       "7  Adventure|Animation|Children|Comedy|Fantasy  \n",
       "8  Adventure|Animation|Children|Comedy|Fantasy  \n",
       "9  Adventure|Animation|Children|Comedy|Fantasy  "
      ]
     },
     "execution_count": 7,
     "metadata": {},
     "output_type": "execute_result"
    }
   ],
   "source": [
    "ml_df = pd.merge(ml_ratings_df, ml_movies_df, on='movieId')\n",
    "ml_df.head(10)"
   ]
  },
  {
   "cell_type": "markdown",
   "id": "objective-associate",
   "metadata": {},
   "source": [
    "## Pandas tasks - Steam dataset"
   ]
  },
  {
   "cell_type": "markdown",
   "id": "floppy-american",
   "metadata": {},
   "source": [
    "**Task 5.** How many people made a purchase in the Steam dataset? Remember that a person could buy many games, but you need to count every person once."
   ]
  },
  {
   "cell_type": "code",
   "execution_count": 8,
   "id": "decimal-grass",
   "metadata": {},
   "outputs": [
    {
     "name": "stdout",
     "output_type": "stream",
     "text": [
      "12393\n"
     ]
    }
   ],
   "source": [
    "df = steam_df.loc[(steam_df['behavior-name'] == 'purchase')]\n",
    "print(df['user-id'].nunique())\n"
   ]
  },
  {
   "cell_type": "markdown",
   "id": "protected-glossary",
   "metadata": {},
   "source": [
    "**Task 6.** How many people made a purchase of \"The Elder Scrolls V Skyrim\"?"
   ]
  },
  {
   "cell_type": "code",
   "execution_count": 9,
   "id": "distant-overview",
   "metadata": {},
   "outputs": [
    {
     "name": "stdout",
     "output_type": "stream",
     "text": [
      "717\n"
     ]
    }
   ],
   "source": [
    "df = steam_df.loc[(steam_df['behavior-name'] == 'purchase') & (steam_df['game-title'] == 'The Elder Scrolls V Skyrim')]\n",
    "print(df['user-id'].nunique())\n"
   ]
  },
  {
   "cell_type": "markdown",
   "id": "vocational-weekly",
   "metadata": {},
   "source": [
    "**Task 7.** How many purchases people made on average?"
   ]
  },
  {
   "cell_type": "code",
   "execution_count": 10,
   "id": "reflected-cathedral",
   "metadata": {},
   "outputs": [
    {
     "name": "stdout",
     "output_type": "stream",
     "text": [
      "10.45033486645687\n"
     ]
    }
   ],
   "source": [
    "df = steam_df.loc[(steam_df['behavior-name'] == 'purchase')]\n",
    "all_purchases = len(df)\n",
    "unique_purchasers = df['user-id'].nunique()\n",
    "print(all_purchases/unique_purchasers)\n"
   ]
  },
  {
   "cell_type": "markdown",
   "id": "signed-transaction",
   "metadata": {},
   "source": [
    "**Task 8.** Who bought the most games?"
   ]
  },
  {
   "cell_type": "code",
   "execution_count": 11,
   "id": "handmade-revolution",
   "metadata": {},
   "outputs": [
    {
     "name": "stdout",
     "output_type": "stream",
     "text": [
      "62990992\n"
     ]
    }
   ],
   "source": [
    "df = steam_df.loc[(steam_df['behavior-name'] == 'purchase')]\n",
    "print(df['user-id'].value_counts().idxmax())"
   ]
  },
  {
   "cell_type": "markdown",
   "id": "piano-bobby",
   "metadata": {},
   "source": [
    "**Task 9.** How many hours on average people played in \"The Elder Scrolls V Skyrim\"?"
   ]
  },
  {
   "cell_type": "code",
   "execution_count": 12,
   "id": "hydraulic-observation",
   "metadata": {},
   "outputs": [
    {
     "name": "stdout",
     "output_type": "stream",
     "text": [
      "104.71093057607091\n"
     ]
    }
   ],
   "source": [
    "df = steam_df.loc[(steam_df['game-title'] == 'The Elder Scrolls V Skyrim') & (steam_df['behavior-name'] == 'play')]\n",
    "print(df['value'].sum()/df['user-id'].nunique())\n"
   ]
  },
  {
   "cell_type": "markdown",
   "id": "stuffed-creativity",
   "metadata": {},
   "source": [
    "**Task 10.** Which games were played the most (in terms of the number of hours played)? Print the first 10 titles and respective numbers of hours."
   ]
  },
  {
   "cell_type": "code",
   "execution_count": 13,
   "id": "challenging-truck",
   "metadata": {},
   "outputs": [
    {
     "name": "stdout",
     "output_type": "stream",
     "text": [
      "                                    game-title     value\n",
      "0                                       Dota 2  981684.6\n",
      "1              Counter-Strike Global Offensive  322771.6\n",
      "2                              Team Fortress 2  173673.3\n",
      "3                               Counter-Strike  134261.1\n",
      "4                   Sid Meier's Civilization V   99821.3\n",
      "5                        Counter-Strike Source   96075.5\n",
      "6                   The Elder Scrolls V Skyrim   70889.3\n",
      "7                                  Garry's Mod   49725.3\n",
      "8  Call of Duty Modern Warfare 2 - Multiplayer   42009.9\n",
      "9                                Left 4 Dead 2   33596.7\n"
     ]
    }
   ],
   "source": [
    "df = steam_df.loc[(steam_df['behavior-name'] == 'play')]\n",
    "output = df.groupby('game-title')['value'].sum().reset_index().nlargest(10, 'value').reset_index(drop=True)\n",
    "print(output)\n"
   ]
  },
  {
   "cell_type": "markdown",
   "id": "crude-petroleum",
   "metadata": {},
   "source": [
    "**Task 11.** Which games are the most consistently played (in terms of the average number of hours played)? Print the first 10 titles and respective numbers of hours."
   ]
  },
  {
   "cell_type": "code",
   "execution_count": 14,
   "id": "surgical-lawsuit",
   "metadata": {},
   "outputs": [
    {
     "name": "stdout",
     "output_type": "stream",
     "text": [
      "                          game-title        value\n",
      "0            Eastside Hockey Manager  1295.000000\n",
      "1  Baldur's Gate II Enhanced Edition   475.255556\n",
      "2                    FIFA Manager 09   411.000000\n",
      "3                          Perpetuum   400.975000\n",
      "4              Football Manager 2014   391.984615\n",
      "5              Football Manager 2012   390.453165\n",
      "6              Football Manager 2010   375.048571\n",
      "7              Football Manager 2011   365.703226\n",
      "8                  Freaking Meatbags   331.000000\n",
      "9        Out of the Park Baseball 16   330.400000\n"
     ]
    }
   ],
   "source": [
    "df = steam_df.loc[(steam_df['behavior-name'] == 'play'), ['game-title', 'value']]\n",
    "df = df.groupby('game-title')['value'].mean().reset_index()\n",
    "print(df.nlargest(10, 'value').reset_index(drop=True))"
   ]
  },
  {
   "cell_type": "markdown",
   "id": "monetary-toyota",
   "metadata": {},
   "source": [
    "**Task 12\\*\\*.** Fix the above for the fact that 0 hours played is not listed, but only a purchase is recorded in such a case."
   ]
  },
  {
   "cell_type": "code",
   "execution_count": 15,
   "id": "protective-report",
   "metadata": {},
   "outputs": [
    {
     "ename": "SyntaxError",
     "evalue": "invalid syntax (Temp/ipykernel_9756/1400483781.py, line 7)",
     "output_type": "error",
     "traceback": [
      "\u001b[1;36m  File \u001b[1;32m\"C:\\Users\\konra\\AppData\\Local\\Temp/ipykernel_9756/1400483781.py\"\u001b[1;36m, line \u001b[1;32m7\u001b[0m\n\u001b[1;33m    //tu zmienic i moze odjac tak jak tam dalej\u001b[0m\n\u001b[1;37m    ^\u001b[0m\n\u001b[1;31mSyntaxError\u001b[0m\u001b[1;31m:\u001b[0m invalid syntax\n"
     ]
    }
   ],
   "source": [
    "df = steam_df.copy()\n",
    "df_played = steam_df.loc[(steam_df['behavior-name'] == 'play')]\n",
    "df_purchased = steam_df.loc[(steam_df['behavior-name'] == 'purchase')]\n",
    "\n",
    "print(df_purchased.head(10))\n",
    "print(df_played.head(10))\n",
    "//tu zmienic i moze odjac tak jak tam dalej\n",
    "df_purchased_played = df_purchased.assign(result=df_purchased.loc[['game-title','user-id']].isin(df_played.loc[['game-title','user-id']]))\n",
    "# df_purchased_played = df_purchased_played[df_purchased_played.result == True]\n",
    "\n",
    "# df_purchased_played = df_purchased_played.drop(columns=['result'])\n",
    "\n",
    "\n",
    "\n",
    "\n",
    "# df = pd.concat([df, df_purchased_played, df_purchased_played]).drop_duplicates(keep=False)\n",
    "\n",
    "\n",
    "# df['value'] = np.where(df['behavior-name']=='purchase',0,df['value'] )\n",
    "# df = df.groupby('game-title')['value'].mean()\n",
    "# print(df.sort_values(ascending=False).reset_index(drop=True)) \n",
    "# df.head(20)\n",
    "\n"
   ]
  },
  {
   "cell_type": "markdown",
   "id": "ceramic-awareness",
   "metadata": {},
   "source": [
    "**Task 13.** Apply the sigmoid function\n",
    "$$f(x) = \\frac{1}{1 + e^{-\\frac{1}{100}x}}$$\n",
    "to hours played and print the first 10 rows from the entire Steam dataset after this change."
   ]
  },
  {
   "cell_type": "code",
   "execution_count": null,
   "id": "optical-announcement",
   "metadata": {},
   "outputs": [],
   "source": [
    "def sigmoid(x):\n",
    "    return 1/(1+np.exp(-(1/100)*x))\n",
    "df_copy = steam_df.copy()\n",
    "df_copy2 = df_copy.loc[steam_df['behavior-name']=='play'].copy()\n",
    "\n",
    "# df_copy = df_copy.loc[steam_df['behavior-name']=='play'].copy()\n",
    "df_copy2['value'] = df_copy2['value'].map(lambda a: sigmoid(a))\n",
    "\n",
    "df_copy.update(df_copy2)\n",
    "df_copy = df_copy.astype({'user-id': 'int32', 'zero': 'int32'} )\n",
    "print(df_copy.head(10))\n"
   ]
  },
  {
   "cell_type": "markdown",
   "id": "actual-spotlight",
   "metadata": {},
   "source": [
    "## Pandas tasks - MovieLens dataset"
   ]
  },
  {
   "cell_type": "markdown",
   "id": "inclusive-crash",
   "metadata": {},
   "source": [
    "**Task 14\\*.** Calculate popularity (by the number of users who watched a movie) of all genres. Print a DataFrame with two columns: genre, n_users, where n_users contains the number of users who watched a given genre. Sort all genres in descending order."
   ]
  },
  {
   "cell_type": "code",
   "execution_count": null,
   "id": "developmental-seven",
   "metadata": {},
   "outputs": [],
   "source": [
    "df = ml_df.copy()\n",
    "df.genres = df.genres.str.split('|')\n",
    "\n",
    "genre_list = list(set([j for i in df['genres'].tolist() for j in i]))\n",
    "\n",
    "df_genre = pd.DataFrame({\"genre\": genre_list, \"n_users\": 0 })\n",
    "\n",
    "genres_list = df.genres.tolist()\n",
    "\n",
    "genres_appeared = [item for sublist in genres_list for item in sublist]\n",
    "\n",
    "df_genre\n",
    "for genre in genre_list:\n",
    "    number = genres_appeared.count(genre)\n",
    "    df_genre.loc[df_genre['genre'] == genre, 'n_users'] = number\n",
    "    \n",
    "\n",
    "  \n",
    "\n",
    "print(df_genre.sort_values(by ='n_users', ascending=False).reset_index(drop=True))\n",
    "\n",
    "\n",
    "\n",
    "\n"
   ]
  },
  {
   "cell_type": "markdown",
   "id": "personalized-finland",
   "metadata": {},
   "source": [
    "**Task 15\\*.** Calculate average rating for all genres. Print a DataFrame with two columns: genre, rating, where rating contains the average rating for a given genre. Sort all genres in descending order."
   ]
  },
  {
   "cell_type": "code",
   "execution_count": null,
   "id": "inside-personal",
   "metadata": {},
   "outputs": [],
   "source": [
    "# df = ml_df.copy()\n",
    "# df.genres = df.genres.str.split('|')\n",
    "\n",
    "# genre_list = list(set([j for i in df['genres'].tolist() for j in i]))\n",
    "\n",
    "# df = df[['rating','genres']]\n",
    "# df = df.explode('genres')\n",
    "\n",
    "# df = df.groupby('genres').mean().reset_index()\n",
    "# df.sort_values(by ='rating', ascending=False).reset_index(drop=True)\n",
    "\n",
    "import numpy as np\n",
    "df = ml_df.copy()\n",
    "df.genres = df.genres.str.split('|')\n",
    "\n",
    "genre_list = list(set([j for i in df['genres'].tolist() for j in i]))\n",
    "\n",
    "df = df[['rating','genres']]\n",
    "\n",
    "#explode is for Pandas >= 0.25\n",
    "newvalues=np.dstack((np.repeat(df.rating.values,list(map(len,df.genres.values))),np.concatenate(df.genres.values)))\n",
    "df = pd.DataFrame(data=newvalues[0],columns=df.columns)\n",
    "df[\"rating\"] = pd.to_numeric(df[\"rating\"])\n",
    "\n",
    "df = df.groupby('genres')['rating'].mean().reset_index()\n",
    "\n",
    "df = df.rename(columns={\"genres\": \"genre\"})\n",
    "print(df.sort_values(by ='rating', ascending=False).reset_index(drop=True))\n",
    "\n",
    "\n",
    "\n"
   ]
  },
  {
   "cell_type": "code",
   "execution_count": null,
   "id": "38b1aa4e",
   "metadata": {},
   "outputs": [],
   "source": []
  },
  {
   "cell_type": "markdown",
   "id": "vertical-stick",
   "metadata": {},
   "source": [
    "**Task 17.** Calculate each movie rating bias (deviation from the mean of all movies average rating). Print first 10 in the form: title, average rating, bias."
   ]
  },
  {
   "cell_type": "code",
   "execution_count": null,
   "id": "greatest-screen",
   "metadata": {},
   "outputs": [],
   "source": [
    "Average = ml_df['rating'].mean()\n",
    "df = ml_df.copy()\n",
    "df_copy = df.copy().groupby('title').agg({'rating': 'mean'}).reset_index()\n",
    "df_copy['bias'] = df_copy['rating'].apply(lambda x: x - Average)\n",
    "df_copy.columns = ['title', 'average_rating', 'bias']\n",
    "print(df_copy.head(10))\n",
    "\n"
   ]
  },
  {
   "cell_type": "markdown",
   "id": "hawaiian-haiti",
   "metadata": {},
   "source": [
    "**Task 17.** Calculate each user rating bias (deviation from the mean of all users average rating). Print first 10 in the form: user_id, average rating, bias."
   ]
  },
  {
   "cell_type": "code",
   "execution_count": null,
   "id": "charitable-guyana",
   "metadata": {},
   "outputs": [],
   "source": [
    "\n",
    "Average = ml_df['rating'].mean()\n",
    "df = ml_df.copy()\n",
    "df_copy = df.copy().groupby('userId').agg({'rating': 'mean'}).reset_index()\n",
    "df_copy['bias'] = df_copy['rating'].apply(lambda x: x - Average)\n",
    "df_copy.columns = ['title', 'average_rating', 'bias']\n",
    "print(df_copy.head(10))"
   ]
  },
  {
   "cell_type": "markdown",
   "id": "intimate-porcelain",
   "metadata": {},
   "source": [
    "**Task 18.** Randomly choose 10 movies and 10 users and print their interaction matrix in the form of a DataFrame with user_id as index and movie titles as columns. You can iterate over the DataFrame in this task."
   ]
  },
  {
   "cell_type": "code",
   "execution_count": 64,
   "id": "brazilian-frost",
   "metadata": {},
   "outputs": [
    {
     "name": "stdout",
     "output_type": "stream",
     "text": [
      "     Father of the Bride (1950)  Matrix, The (1999)  Howards End (1992)  \\\n",
      "11                          0.0                 0.0                 0.0   \n",
      "277                         0.0                 0.0                 0.0   \n",
      "286                         0.0                 1.0                 0.0   \n",
      "357                         0.0                 0.0                 0.0   \n",
      "414                         0.0                 1.0                 0.0   \n",
      "428                         0.0                 1.0                 0.0   \n",
      "470                         0.0                 0.0                 0.0   \n",
      "487                         0.0                 1.0                 0.0   \n",
      "543                         0.0                 1.0                 0.0   \n",
      "544                         0.0                 0.0                 0.0   \n",
      "\n",
      "     Thirteen Conversations About One Thing (a.k.a. 13 Conversations) (2001)  \\\n",
      "11                                                 0.0                         \n",
      "277                                                0.0                         \n",
      "286                                                0.0                         \n",
      "357                                                0.0                         \n",
      "414                                                1.0                         \n",
      "428                                                0.0                         \n",
      "470                                                0.0                         \n",
      "487                                                0.0                         \n",
      "543                                                0.0                         \n",
      "544                                                0.0                         \n",
      "\n",
      "     It Runs in the Family (2003)  I Love You to Death (1990)  \\\n",
      "11                            0.0                         0.0   \n",
      "277                           0.0                         0.0   \n",
      "286                           0.0                         0.0   \n",
      "357                           0.0                         0.0   \n",
      "414                           0.0                         0.0   \n",
      "428                           0.0                         0.0   \n",
      "470                           0.0                         0.0   \n",
      "487                           0.0                         0.0   \n",
      "543                           0.0                         0.0   \n",
      "544                           0.0                         0.0   \n",
      "\n",
      "     Bedazzled (1967)  I Don't Know How She Does It (2011)  \\\n",
      "11                0.0                                  0.0   \n",
      "277               0.0                                  0.0   \n",
      "286               0.0                                  0.0   \n",
      "357               0.0                                  0.0   \n",
      "414               0.0                                  0.0   \n",
      "428               0.0                                  0.0   \n",
      "470               0.0                                  0.0   \n",
      "487               0.0                                  0.0   \n",
      "543               0.0                                  0.0   \n",
      "544               0.0                                  0.0   \n",
      "\n",
      "     Wind Rises, The (Kaze tachinu) (2013)  Night Guards (2016)  \n",
      "11                                     0.0                  0.0  \n",
      "277                                    0.0                  0.0  \n",
      "286                                    0.0                  0.0  \n",
      "357                                    0.0                  0.0  \n",
      "414                                    0.0                  0.0  \n",
      "428                                    0.0                  0.0  \n",
      "470                                    0.0                  0.0  \n",
      "487                                    0.0                  0.0  \n",
      "543                                    0.0                  0.0  \n",
      "544                                    0.0                  0.0  \n"
     ]
    }
   ],
   "source": [
    "user_ids = ml_df['userId'].unique()\n",
    "movie_ids = ml_df['movieId'].unique()\n",
    "rng = np.random.RandomState(seed=4321)\n",
    "user_ids = sorted(list(rng.choice(user_ids, size=10)))\n",
    "movie_ids = sorted(list(rng.choice(movie_ids, size=10)))\n",
    "df = ml_df.copy()\n",
    "\n",
    "matrix = np.zeros((10, 10))\n",
    "\n",
    "df2 = df.loc[df['userId'].isin(user_ids) & df['movieId'].isin(movie_ids)]\n",
    "titles = df.loc[df['movieId'].isin(movie_ids)].sort_values('movieId').title.drop_duplicates().values.tolist()\n",
    "\n",
    "\n",
    "id_title = list(zip(df2['userId'],df2['movieId']))\n",
    "\n",
    "for element in id_title:\n",
    "    x = user_ids.index(element[0])\n",
    "    y = movie_ids.index(element[1])\n",
    "    matrix[x][y] = 1\n",
    "\n",
    "df = pd.DataFrame(matrix, columns=titles, index =user_ids )\n",
    "print(df)\n",
    "\n",
    "\n",
    "\n"
   ]
  },
  {
   "cell_type": "markdown",
   "id": "boolean-modem",
   "metadata": {},
   "source": [
    "## Pandas + numpy tasks"
   ]
  },
  {
   "cell_type": "markdown",
   "id": "worldwide-disclaimer",
   "metadata": {},
   "source": [
    "**Task 19.** Create the entire interaction matrix for the MovieLens dataset. Print the submatrix of first 10 rows and 10 columns."
   ]
  },
  {
   "cell_type": "code",
   "execution_count": 20,
   "id": "marine-initial",
   "metadata": {},
   "outputs": [
    {
     "name": "stdout",
     "output_type": "stream",
     "text": [
      "[[0. 0. 0. 0. 0. 0. 0. 0. 0. 0.]\n",
      " [0. 1. 0. 1. 0. 0. 1. 0. 0. 0.]\n",
      " [0. 0. 0. 0. 0. 0. 0. 0. 0. 0.]\n",
      " [0. 0. 0. 0. 0. 0. 0. 0. 0. 0.]\n",
      " [0. 0. 0. 0. 0. 0. 0. 0. 0. 0.]\n",
      " [0. 1. 0. 0. 0. 0. 0. 0. 0. 0.]\n",
      " [0. 0. 1. 1. 1. 1. 1. 1. 1. 0.]\n",
      " [0. 1. 0. 0. 0. 0. 0. 0. 0. 0.]\n",
      " [0. 0. 1. 0. 0. 0. 0. 0. 0. 0.]\n",
      " [0. 0. 0. 0. 0. 0. 0. 0. 0. 0.]]\n"
     ]
    }
   ],
   "source": [
    "df = ml_df.copy()\n",
    "df = df.pivot_table(index='userId', columns='movieId', aggfunc=len, fill_value=0)\n",
    "array = np.array(df.iloc[0:10,0:10])\n",
    "col = np.zeros((10,1))\n",
    "row = np.zeros((1,11))\n",
    "array = np.append(col, array, axis=1)\n",
    "array = np.vstack([row,array])\n",
    "b = array[:-1,:-1]\n",
    "#had to add row and column with zeros for some reason\n",
    "print(b)"
   ]
  },
  {
   "cell_type": "markdown",
   "id": "micro-vision",
   "metadata": {},
   "source": [
    "**Task 20.** Calculate the matrix of size (n_users, n_users) where at position (i, j) there is the number of movies watched both by user i and user j. Print the submatrix of first 10 rows and 10 columns."
   ]
  },
  {
   "cell_type": "code",
   "execution_count": 104,
   "id": "swedish-lambda",
   "metadata": {},
   "outputs": [
    {
     "name": "stdout",
     "output_type": "stream",
     "text": [
      "[[  0.   0.   0.   0.   0.   0.   0.   0.   0.   0.]\n",
      " [  0. 232.   2.   7.  45.  13.  33.  26.  15.   5.]\n",
      " [  0.   2.  29.   0.   1.   1.   2.   3.   1.   0.]\n",
      " [  0.   7.   0.  39.   1.   1.   3.   0.   1.   0.]\n",
      " [  0.  45.   1.   1. 216.  12.  27.  22.   9.   1.]\n",
      " [  0.  13.   1.   1.  12.  44.  36.   9.  19.   0.]\n",
      " [  0.  33.   2.   3.  27.  36. 314.  14.  44.   2.]\n",
      " [  0.  26.   3.   0.  22.   9.  14. 152.   8.   6.]\n",
      " [  0.  15.   1.   1.   9.  19.  44.   8.  47.   0.]\n",
      " [  0.   5.   0.   0.   1.   0.   2.   6.   0.  46.]]\n"
     ]
    }
   ],
   "source": [
    "df = ml_df.copy()\n",
    "n = df.userId.nunique()\n",
    "matrix = np.zeros((n+1, n+1))\n",
    "indices = np.triu_indices_from(matrix)\n",
    "\n",
    "users = []\n",
    "for i in range(1,n+1):\n",
    "    user_i = df.loc[df['userId']==i,['movieId']]\n",
    "    user_i = user_i['movieId'].values.tolist()\n",
    "    users.append(user_i)\n",
    "    \n",
    "    \n",
    "for i in range(1, n+1):\n",
    "    for j in range(i, n+1):\n",
    "        common_elements = np.intersect1d(users[i-1], users[j-1])\n",
    "        matrix[i][j] = len(common_elements)\n",
    "        \n",
    "i_lower = np.tril_indices(n, -1)\n",
    "matrix[i_lower] = matrix.T[i_lower] \n",
    "        \n",
    "print(matrix[:10, :10])\n",
    "\n",
    "\n",
    "        \n",
    "\n",
    "\n"
   ]
  },
  {
   "cell_type": "markdown",
   "id": "shaped-advance",
   "metadata": {},
   "source": [
    "**Task 21.** Calculate the matrix of size (n_items, n_items) where at position (i, j) there is the number of users who watched both movie i and movie j. To prevent hanging your computer because of RAM shortage use only the first 1000 items. Print the submatrix of first 10 rows and 10 columns."
   ]
  },
  {
   "cell_type": "code",
   "execution_count": 106,
   "id": "quality-bubble",
   "metadata": {},
   "outputs": [
    {
     "name": "stdout",
     "output_type": "stream",
     "text": [
      "[[  0.   0.   0.   0.   0.   0.   0.   0.   0.   0.]\n",
      " [  0. 215.  68.  32.   2.  32.  58.  32.   5.  12.]\n",
      " [  0.  68. 110.  26.   3.  22.  36.  18.   6.   3.]\n",
      " [  0.  32.  26.  52.   1.  19.  25.  19.   4.   9.]\n",
      " [  0.   2.   3.   1.   7.   3.   2.   6.   1.   0.]\n",
      " [  0.  32.  22.  19.   3.  49.  24.  23.   4.   9.]\n",
      " [  0.  58.  36.  25.   2.  24. 102.  22.   5.   9.]\n",
      " [  0.  32.  18.  19.   6.  23.  22.  54.   4.   5.]\n",
      " [  0.   5.   6.   4.   1.   4.   5.   4.   8.   0.]\n",
      " [  0.  12.   3.   9.   0.   9.   9.   5.   0.  16.]]\n"
     ]
    }
   ],
   "source": [
    "df = ml_df.copy()\n",
    "n = df.userId.nunique()\n",
    "matrix = np.zeros((n+1, n+1))\n",
    "indices = np.triu_indices_from(matrix)\n",
    "\n",
    "movies = []\n",
    "for i in range(1,1001):\n",
    "    movie_i = df.loc[df['movieId']==i,['userId']]\n",
    "    movie_i = movie_i['userId'].values.tolist()\n",
    "    movies.append(movie_i)\n",
    "    \n",
    "    \n",
    "for i in range(1, 1001):\n",
    "    for j in range(i, n+1):\n",
    "        common_elements = np.intersect1d(movies[i-1], movies[j-1])\n",
    "        matrix[i][j] = len(common_elements)\n",
    "        \n",
    "i_lower = np.tril_indices(n, -1)\n",
    "matrix[i_lower] = matrix.T[i_lower] \n",
    "        \n",
    "print(matrix[:10, :10])\n"
   ]
  },
  {
   "cell_type": "code",
   "execution_count": null,
   "id": "183759a5",
   "metadata": {},
   "outputs": [],
   "source": []
  }
 ],
 "metadata": {
  "kernelspec": {
   "display_name": "Python 3 (ipykernel)",
   "language": "python",
   "name": "python3"
  },
  "language_info": {
   "codemirror_mode": {
    "name": "ipython",
    "version": 3
   },
   "file_extension": ".py",
   "mimetype": "text/x-python",
   "name": "python",
   "nbconvert_exporter": "python",
   "pygments_lexer": "ipython3",
   "version": "3.9.7"
  }
 },
 "nbformat": 4,
 "nbformat_minor": 5
}
